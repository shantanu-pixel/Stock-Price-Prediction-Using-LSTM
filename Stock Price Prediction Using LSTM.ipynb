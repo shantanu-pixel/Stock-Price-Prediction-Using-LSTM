{
 "cells": [
  {
   "cell_type": "markdown",
   "id": "c61e1384",
   "metadata": {},
   "source": [
    "# Stock Market Prediction Using LSTM By Shantanu Garain"
   ]
  },
  {
   "cell_type": "markdown",
   "id": "350bee88",
   "metadata": {},
   "source": [
    "# Importing Essential Libraries"
   ]
  },
  {
   "cell_type": "code",
   "execution_count": 19,
   "id": "275d6701",
   "metadata": {},
   "outputs": [],
   "source": [
    "import numpy as np\n",
    "import pandas as pd\n",
    "import seaborn as sns\n",
    "import matplotlib.pyplot as plt"
   ]
  },
  {
   "cell_type": "markdown",
   "id": "d191536f",
   "metadata": {},
   "source": [
    "# Loading data to the notebook"
   ]
  },
  {
   "cell_type": "code",
   "execution_count": 20,
   "id": "6a2e5a24",
   "metadata": {},
   "outputs": [],
   "source": [
    "data = pd.read_csv('aapl_raw_data.csv')"
   ]
  },
  {
   "cell_type": "markdown",
   "id": "534d9aa9",
   "metadata": {},
   "source": [
    "# Looking for top 5 Rows of our dataset"
   ]
  },
  {
   "cell_type": "code",
   "execution_count": null,
   "id": "9c3e47d8",
   "metadata": {},
   "outputs": [],
   "source": [
    "data.head()"
   ]
  },
  {
   "cell_type": "markdown",
   "id": "949acad2",
   "metadata": {},
   "source": [
    "# Looking for bottom 5 Rows of our dataset"
   ]
  },
  {
   "cell_type": "code",
   "execution_count": 22,
   "id": "b0d56814",
   "metadata": {},
   "outputs": [],
   "source": [
    "data.tail()"
   ]
  },
  {
   "cell_type": "markdown",
   "id": "395d708d",
   "metadata": {},
   "source": [
    "# Size of our data"
   ]
  },
  {
   "cell_type": "code",
   "execution_count": 23,
   "id": "e10704f7",
   "metadata": {},
   "outputs": [
    {
     "data": {
      "text/plain": [
       "88227"
      ]
     },
     "execution_count": 23,
     "metadata": {},
     "output_type": "execute_result"
    }
   ],
   "source": [
    "data.size"
   ]
  },
  {
   "cell_type": "markdown",
   "id": "66f93b11",
   "metadata": {},
   "source": [
    "# Shape of our data"
   ]
  },
  {
   "cell_type": "code",
   "execution_count": 24,
   "id": "c54b9b7e",
   "metadata": {},
   "outputs": [
    {
     "data": {
      "text/plain": [
       "(9803, 9)"
      ]
     },
     "execution_count": 24,
     "metadata": {},
     "output_type": "execute_result"
    }
   ],
   "source": [
    "data.shape"
   ]
  },
  {
   "cell_type": "markdown",
   "id": "f92089a9",
   "metadata": {},
   "source": [
    "# Some important information about the columns of our data"
   ]
  },
  {
   "cell_type": "code",
   "execution_count": 25,
   "id": "b38fed30",
   "metadata": {},
   "outputs": [
    {
     "name": "stdout",
     "output_type": "stream",
     "text": [
      "<class 'pandas.core.frame.DataFrame'>\n",
      "RangeIndex: 9803 entries, 0 to 9802\n",
      "Data columns (total 9 columns):\n",
      " #   Column          Non-Null Count  Dtype  \n",
      "---  ------          --------------  -----  \n",
      " 0   date            9803 non-null   object \n",
      " 1   open            9803 non-null   float64\n",
      " 2   high            9803 non-null   float64\n",
      " 3   low             9803 non-null   float64\n",
      " 4   close           9803 non-null   float64\n",
      " 5   volume          9803 non-null   int64  \n",
      " 6   adjusted_close  9803 non-null   float64\n",
      " 7   change_percent  9802 non-null   float64\n",
      " 8   avg_vol_20d     9784 non-null   float64\n",
      "dtypes: float64(7), int64(1), object(1)\n",
      "memory usage: 689.4+ KB\n"
     ]
    }
   ],
   "source": [
    "data.info()"
   ]
  },
  {
   "cell_type": "markdown",
   "id": "af924feb",
   "metadata": {},
   "source": [
    "# Some statistical information about the data:"
   ]
  },
  {
   "cell_type": "code",
   "execution_count": 26,
   "id": "3c936d1e",
   "metadata": {},
   "outputs": [
    {
     "data": {
      "text/html": [
       "<div>\n",
       "<style scoped>\n",
       "    .dataframe tbody tr th:only-of-type {\n",
       "        vertical-align: middle;\n",
       "    }\n",
       "\n",
       "    .dataframe tbody tr th {\n",
       "        vertical-align: top;\n",
       "    }\n",
       "\n",
       "    .dataframe thead th {\n",
       "        text-align: right;\n",
       "    }\n",
       "</style>\n",
       "<table border=\"1\" class=\"dataframe\">\n",
       "  <thead>\n",
       "    <tr style=\"text-align: right;\">\n",
       "      <th></th>\n",
       "      <th>open</th>\n",
       "      <th>high</th>\n",
       "      <th>low</th>\n",
       "      <th>close</th>\n",
       "      <th>volume</th>\n",
       "      <th>adjusted_close</th>\n",
       "      <th>change_percent</th>\n",
       "      <th>avg_vol_20d</th>\n",
       "    </tr>\n",
       "  </thead>\n",
       "  <tbody>\n",
       "    <tr>\n",
       "      <th>count</th>\n",
       "      <td>9803.000000</td>\n",
       "      <td>9803.000000</td>\n",
       "      <td>9803.000000</td>\n",
       "      <td>9803.000000</td>\n",
       "      <td>9.803000e+03</td>\n",
       "      <td>9803.000000</td>\n",
       "      <td>9802.000000</td>\n",
       "      <td>9.784000e+03</td>\n",
       "    </tr>\n",
       "    <tr>\n",
       "      <th>mean</th>\n",
       "      <td>121.004966</td>\n",
       "      <td>122.456075</td>\n",
       "      <td>119.470947</td>\n",
       "      <td>121.002267</td>\n",
       "      <td>2.047305e+07</td>\n",
       "      <td>20.204214</td>\n",
       "      <td>0.115409</td>\n",
       "      <td>3.444902e+08</td>\n",
       "    </tr>\n",
       "    <tr>\n",
       "      <th>std</th>\n",
       "      <td>135.119023</td>\n",
       "      <td>136.267710</td>\n",
       "      <td>133.813208</td>\n",
       "      <td>135.076731</td>\n",
       "      <td>2.781417e+07</td>\n",
       "      <td>41.263009</td>\n",
       "      <td>2.726494</td>\n",
       "      <td>2.753198e+08</td>\n",
       "    </tr>\n",
       "    <tr>\n",
       "      <th>min</th>\n",
       "      <td>12.874400</td>\n",
       "      <td>13.190800</td>\n",
       "      <td>12.720400</td>\n",
       "      <td>12.936000</td>\n",
       "      <td>9.600000e+04</td>\n",
       "      <td>0.050200</td>\n",
       "      <td>-51.870000</td>\n",
       "      <td>4.981285e+07</td>\n",
       "    </tr>\n",
       "    <tr>\n",
       "      <th>25%</th>\n",
       "      <td>34.501600</td>\n",
       "      <td>35.000000</td>\n",
       "      <td>33.751200</td>\n",
       "      <td>34.501600</td>\n",
       "      <td>1.909849e+06</td>\n",
       "      <td>0.278900</td>\n",
       "      <td>-1.230000</td>\n",
       "      <td>1.534639e+08</td>\n",
       "    </tr>\n",
       "    <tr>\n",
       "      <th>50%</th>\n",
       "      <td>61.600000</td>\n",
       "      <td>62.748000</td>\n",
       "      <td>60.625600</td>\n",
       "      <td>61.751200</td>\n",
       "      <td>8.465999e+06</td>\n",
       "      <td>0.779200</td>\n",
       "      <td>0.020000</td>\n",
       "      <td>2.480744e+08</td>\n",
       "    </tr>\n",
       "    <tr>\n",
       "      <th>75%</th>\n",
       "      <td>154.675000</td>\n",
       "      <td>156.390000</td>\n",
       "      <td>153.070000</td>\n",
       "      <td>154.600000</td>\n",
       "      <td>2.843074e+07</td>\n",
       "      <td>18.431250</td>\n",
       "      <td>1.430000</td>\n",
       "      <td>4.429121e+08</td>\n",
       "    </tr>\n",
       "    <tr>\n",
       "      <th>max</th>\n",
       "      <td>702.410000</td>\n",
       "      <td>705.070000</td>\n",
       "      <td>699.570000</td>\n",
       "      <td>702.100000</td>\n",
       "      <td>3.326072e+08</td>\n",
       "      <td>196.185100</td>\n",
       "      <td>33.200000</td>\n",
       "      <td>1.879209e+09</td>\n",
       "    </tr>\n",
       "  </tbody>\n",
       "</table>\n",
       "</div>"
      ],
      "text/plain": [
       "              open         high          low        close        volume  \\\n",
       "count  9803.000000  9803.000000  9803.000000  9803.000000  9.803000e+03   \n",
       "mean    121.004966   122.456075   119.470947   121.002267  2.047305e+07   \n",
       "std     135.119023   136.267710   133.813208   135.076731  2.781417e+07   \n",
       "min      12.874400    13.190800    12.720400    12.936000  9.600000e+04   \n",
       "25%      34.501600    35.000000    33.751200    34.501600  1.909849e+06   \n",
       "50%      61.600000    62.748000    60.625600    61.751200  8.465999e+06   \n",
       "75%     154.675000   156.390000   153.070000   154.600000  2.843074e+07   \n",
       "max     702.410000   705.070000   699.570000   702.100000  3.326072e+08   \n",
       "\n",
       "       adjusted_close  change_percent   avg_vol_20d  \n",
       "count     9803.000000     9802.000000  9.784000e+03  \n",
       "mean        20.204214        0.115409  3.444902e+08  \n",
       "std         41.263009        2.726494  2.753198e+08  \n",
       "min          0.050200      -51.870000  4.981285e+07  \n",
       "25%          0.278900       -1.230000  1.534639e+08  \n",
       "50%          0.779200        0.020000  2.480744e+08  \n",
       "75%         18.431250        1.430000  4.429121e+08  \n",
       "max        196.185100       33.200000  1.879209e+09  "
      ]
     },
     "execution_count": 26,
     "metadata": {},
     "output_type": "execute_result"
    }
   ],
   "source": [
    "data.describe()"
   ]
  },
  {
   "cell_type": "code",
   "execution_count": null,
   "id": "58d0e3d7",
   "metadata": {},
   "outputs": [],
   "source": []
  },
  {
   "cell_type": "code",
   "execution_count": null,
   "id": "ccf50cb9",
   "metadata": {},
   "outputs": [],
   "source": []
  },
  {
   "cell_type": "markdown",
   "id": "aa3ca57c",
   "metadata": {},
   "source": [
    "# DATA PREPROCESSING AND DATA CLEANING:"
   ]
  },
  {
   "cell_type": "markdown",
   "id": "f40ed642",
   "metadata": {},
   "source": [
    "# Null values in each column:"
   ]
  },
  {
   "cell_type": "code",
   "execution_count": 27,
   "id": "2f0cb1f4",
   "metadata": {},
   "outputs": [
    {
     "data": {
      "text/plain": [
       "date               0\n",
       "open               0\n",
       "high               0\n",
       "low                0\n",
       "close              0\n",
       "volume             0\n",
       "adjusted_close     0\n",
       "change_percent     1\n",
       "avg_vol_20d       19\n",
       "dtype: int64"
      ]
     },
     "execution_count": 27,
     "metadata": {},
     "output_type": "execute_result"
    }
   ],
   "source": [
    "data.isnull().sum()"
   ]
  },
  {
   "cell_type": "markdown",
   "id": "15230690",
   "metadata": {},
   "source": [
    "# Check duplicate and remove them"
   ]
  },
  {
   "cell_type": "code",
   "execution_count": 28,
   "id": "933cb381",
   "metadata": {},
   "outputs": [],
   "source": [
    "data.duplicated().sum()\n",
    "data.drop_duplicates(inplace=True)"
   ]
  },
  {
   "cell_type": "markdown",
   "id": "ee5ab822",
   "metadata": {},
   "source": [
    "# Data Transformation"
   ]
  },
  {
   "cell_type": "code",
   "execution_count": 29,
   "id": "5b2b4d44",
   "metadata": {},
   "outputs": [
    {
     "data": {
      "text/plain": [
       "date               object\n",
       "open              float64\n",
       "high              float64\n",
       "low               float64\n",
       "close             float64\n",
       "volume              int64\n",
       "adjusted_close    float64\n",
       "change_percent    float64\n",
       "avg_vol_20d       float64\n",
       "dtype: object"
      ]
     },
     "execution_count": 29,
     "metadata": {},
     "output_type": "execute_result"
    }
   ],
   "source": [
    "# check the data types of the solumns\n",
    "data.dtypes"
   ]
  },
  {
   "cell_type": "code",
   "execution_count": 30,
   "id": "7fd2fcf5",
   "metadata": {},
   "outputs": [
    {
     "data": {
      "text/plain": [
       "date              datetime64[ns]\n",
       "open                     float64\n",
       "high                     float64\n",
       "low                      float64\n",
       "close                    float64\n",
       "volume                     int64\n",
       "adjusted_close           float64\n",
       "change_percent           float64\n",
       "avg_vol_20d              float64\n",
       "dtype: object"
      ]
     },
     "execution_count": 30,
     "metadata": {},
     "output_type": "execute_result"
    }
   ],
   "source": [
    "# Change the 'date' format to datetime format\n",
    "data['date'] = pd.to_datetime(data['date'])\n",
    "data.dtypes"
   ]
  },
  {
   "cell_type": "markdown",
   "id": "ac4867da",
   "metadata": {},
   "source": [
    "# Feature Engineering"
   ]
  },
  {
   "cell_type": "code",
   "execution_count": 31,
   "id": "0ac03cbf",
   "metadata": {},
   "outputs": [],
   "source": [
    "def add_features(data):\n",
    "    \n",
    "    # add day of the week feature\n",
    "    data['day_of week'] = data['date'].dt.dayofweek\n",
    "    \n",
    "    # add month feature\n",
    "    data['month'] = data['date'].dt.month\n",
    "    \n",
    "    # Add year feature\n",
    "    data['year'] = data['date'].dt.year\n",
    "    \n",
    "    # Add week of the year feature\n",
    "    data['week_of_year'] = data['date'].dt.isocalendar().week\n",
    "    \n",
    "    # Add day of the year feature\n",
    "    data['day_of_year'] = data['date'].dt.dayofyear\n",
    "    \n",
    "    return data"
   ]
  },
  {
   "cell_type": "code",
   "execution_count": 32,
   "id": "bcca12f3",
   "metadata": {},
   "outputs": [
    {
     "data": {
      "text/html": [
       "<div>\n",
       "<style scoped>\n",
       "    .dataframe tbody tr th:only-of-type {\n",
       "        vertical-align: middle;\n",
       "    }\n",
       "\n",
       "    .dataframe tbody tr th {\n",
       "        vertical-align: top;\n",
       "    }\n",
       "\n",
       "    .dataframe thead th {\n",
       "        text-align: right;\n",
       "    }\n",
       "</style>\n",
       "<table border=\"1\" class=\"dataframe\">\n",
       "  <thead>\n",
       "    <tr style=\"text-align: right;\">\n",
       "      <th></th>\n",
       "      <th>date</th>\n",
       "      <th>open</th>\n",
       "      <th>high</th>\n",
       "      <th>low</th>\n",
       "      <th>close</th>\n",
       "      <th>volume</th>\n",
       "      <th>adjusted_close</th>\n",
       "      <th>change_percent</th>\n",
       "      <th>avg_vol_20d</th>\n",
       "      <th>day_of week</th>\n",
       "      <th>month</th>\n",
       "      <th>year</th>\n",
       "      <th>week_of_year</th>\n",
       "      <th>day_of_year</th>\n",
       "    </tr>\n",
       "  </thead>\n",
       "  <tbody>\n",
       "    <tr>\n",
       "      <th>0</th>\n",
       "      <td>1984-11-05</td>\n",
       "      <td>24.7520</td>\n",
       "      <td>25.3792</td>\n",
       "      <td>24.5056</td>\n",
       "      <td>24.7520</td>\n",
       "      <td>470399</td>\n",
       "      <td>0.0856</td>\n",
       "      <td>NaN</td>\n",
       "      <td>NaN</td>\n",
       "      <td>0</td>\n",
       "      <td>11</td>\n",
       "      <td>1984</td>\n",
       "      <td>45</td>\n",
       "      <td>310</td>\n",
       "    </tr>\n",
       "    <tr>\n",
       "      <th>1</th>\n",
       "      <td>1984-11-06</td>\n",
       "      <td>26.2528</td>\n",
       "      <td>26.3760</td>\n",
       "      <td>24.9984</td>\n",
       "      <td>26.2528</td>\n",
       "      <td>1005899</td>\n",
       "      <td>0.0908</td>\n",
       "      <td>6.07</td>\n",
       "      <td>NaN</td>\n",
       "      <td>1</td>\n",
       "      <td>11</td>\n",
       "      <td>1984</td>\n",
       "      <td>45</td>\n",
       "      <td>311</td>\n",
       "    </tr>\n",
       "    <tr>\n",
       "      <th>2</th>\n",
       "      <td>1984-11-07</td>\n",
       "      <td>25.7488</td>\n",
       "      <td>26.3760</td>\n",
       "      <td>24.8752</td>\n",
       "      <td>25.7488</td>\n",
       "      <td>1033699</td>\n",
       "      <td>0.0891</td>\n",
       "      <td>-1.87</td>\n",
       "      <td>NaN</td>\n",
       "      <td>2</td>\n",
       "      <td>11</td>\n",
       "      <td>1984</td>\n",
       "      <td>45</td>\n",
       "      <td>312</td>\n",
       "    </tr>\n",
       "    <tr>\n",
       "      <th>3</th>\n",
       "      <td>1984-11-08</td>\n",
       "      <td>24.7520</td>\n",
       "      <td>25.7488</td>\n",
       "      <td>24.6288</td>\n",
       "      <td>24.7520</td>\n",
       "      <td>393399</td>\n",
       "      <td>0.0856</td>\n",
       "      <td>-3.93</td>\n",
       "      <td>NaN</td>\n",
       "      <td>3</td>\n",
       "      <td>11</td>\n",
       "      <td>1984</td>\n",
       "      <td>45</td>\n",
       "      <td>313</td>\n",
       "    </tr>\n",
       "    <tr>\n",
       "      <th>4</th>\n",
       "      <td>1984-11-09</td>\n",
       "      <td>23.2512</td>\n",
       "      <td>24.8752</td>\n",
       "      <td>23.0048</td>\n",
       "      <td>23.2512</td>\n",
       "      <td>1313099</td>\n",
       "      <td>0.0804</td>\n",
       "      <td>-6.07</td>\n",
       "      <td>NaN</td>\n",
       "      <td>4</td>\n",
       "      <td>11</td>\n",
       "      <td>1984</td>\n",
       "      <td>45</td>\n",
       "      <td>314</td>\n",
       "    </tr>\n",
       "  </tbody>\n",
       "</table>\n",
       "</div>"
      ],
      "text/plain": [
       "        date     open     high      low    close   volume  adjusted_close  \\\n",
       "0 1984-11-05  24.7520  25.3792  24.5056  24.7520   470399          0.0856   \n",
       "1 1984-11-06  26.2528  26.3760  24.9984  26.2528  1005899          0.0908   \n",
       "2 1984-11-07  25.7488  26.3760  24.8752  25.7488  1033699          0.0891   \n",
       "3 1984-11-08  24.7520  25.7488  24.6288  24.7520   393399          0.0856   \n",
       "4 1984-11-09  23.2512  24.8752  23.0048  23.2512  1313099          0.0804   \n",
       "\n",
       "   change_percent  avg_vol_20d  day_of week  month  year  week_of_year  \\\n",
       "0             NaN          NaN            0     11  1984            45   \n",
       "1            6.07          NaN            1     11  1984            45   \n",
       "2           -1.87          NaN            2     11  1984            45   \n",
       "3           -3.93          NaN            3     11  1984            45   \n",
       "4           -6.07          NaN            4     11  1984            45   \n",
       "\n",
       "   day_of_year  \n",
       "0          310  \n",
       "1          311  \n",
       "2          312  \n",
       "3          313  \n",
       "4          314  "
      ]
     },
     "execution_count": 32,
     "metadata": {},
     "output_type": "execute_result"
    }
   ],
   "source": [
    "df = add_features(data)\n",
    "df.head()"
   ]
  },
  {
   "cell_type": "code",
   "execution_count": 33,
   "id": "5e3daa3a",
   "metadata": {},
   "outputs": [
    {
     "data": {
      "text/html": [
       "<div>\n",
       "<style scoped>\n",
       "    .dataframe tbody tr th:only-of-type {\n",
       "        vertical-align: middle;\n",
       "    }\n",
       "\n",
       "    .dataframe tbody tr th {\n",
       "        vertical-align: top;\n",
       "    }\n",
       "\n",
       "    .dataframe thead th {\n",
       "        text-align: right;\n",
       "    }\n",
       "</style>\n",
       "<table border=\"1\" class=\"dataframe\">\n",
       "  <thead>\n",
       "    <tr style=\"text-align: right;\">\n",
       "      <th></th>\n",
       "      <th>date</th>\n",
       "      <th>open</th>\n",
       "      <th>high</th>\n",
       "      <th>low</th>\n",
       "      <th>close</th>\n",
       "      <th>volume</th>\n",
       "      <th>adjusted_close</th>\n",
       "      <th>change_percent</th>\n",
       "      <th>avg_vol_20d</th>\n",
       "      <th>day_of week</th>\n",
       "      <th>month</th>\n",
       "      <th>year</th>\n",
       "      <th>week_of_year</th>\n",
       "      <th>day_of_year</th>\n",
       "    </tr>\n",
       "  </thead>\n",
       "  <tbody>\n",
       "    <tr>\n",
       "      <th>date</th>\n",
       "      <td>1.000000</td>\n",
       "      <td>0.563895</td>\n",
       "      <td>0.563937</td>\n",
       "      <td>0.564516</td>\n",
       "      <td>0.564302</td>\n",
       "      <td>0.704164</td>\n",
       "      <td>0.676749</td>\n",
       "      <td>0.003907</td>\n",
       "      <td>0.028803</td>\n",
       "      <td>0.004075</td>\n",
       "      <td>0.003340</td>\n",
       "      <td>0.999674</td>\n",
       "      <td>0.003132</td>\n",
       "      <td>0.003341</td>\n",
       "    </tr>\n",
       "    <tr>\n",
       "      <th>open</th>\n",
       "      <td>0.563895</td>\n",
       "      <td>1.000000</td>\n",
       "      <td>0.999914</td>\n",
       "      <td>0.999887</td>\n",
       "      <td>0.999802</td>\n",
       "      <td>0.220890</td>\n",
       "      <td>0.252259</td>\n",
       "      <td>0.003715</td>\n",
       "      <td>0.110114</td>\n",
       "      <td>0.004424</td>\n",
       "      <td>-0.012036</td>\n",
       "      <td>0.564063</td>\n",
       "      <td>-0.012406</td>\n",
       "      <td>-0.011722</td>\n",
       "    </tr>\n",
       "    <tr>\n",
       "      <th>high</th>\n",
       "      <td>0.563937</td>\n",
       "      <td>0.999914</td>\n",
       "      <td>1.000000</td>\n",
       "      <td>0.999860</td>\n",
       "      <td>0.999905</td>\n",
       "      <td>0.222368</td>\n",
       "      <td>0.252422</td>\n",
       "      <td>0.007143</td>\n",
       "      <td>0.111613</td>\n",
       "      <td>0.003533</td>\n",
       "      <td>-0.012402</td>\n",
       "      <td>0.564115</td>\n",
       "      <td>-0.012777</td>\n",
       "      <td>-0.012076</td>\n",
       "    </tr>\n",
       "    <tr>\n",
       "      <th>low</th>\n",
       "      <td>0.564516</td>\n",
       "      <td>0.999887</td>\n",
       "      <td>0.999860</td>\n",
       "      <td>1.000000</td>\n",
       "      <td>0.999899</td>\n",
       "      <td>0.219083</td>\n",
       "      <td>0.253012</td>\n",
       "      <td>0.007743</td>\n",
       "      <td>0.107308</td>\n",
       "      <td>0.004137</td>\n",
       "      <td>-0.011961</td>\n",
       "      <td>0.564681</td>\n",
       "      <td>-0.012347</td>\n",
       "      <td>-0.011628</td>\n",
       "    </tr>\n",
       "    <tr>\n",
       "      <th>close</th>\n",
       "      <td>0.564302</td>\n",
       "      <td>0.999802</td>\n",
       "      <td>0.999905</td>\n",
       "      <td>0.999899</td>\n",
       "      <td>1.000000</td>\n",
       "      <td>0.220718</td>\n",
       "      <td>0.252873</td>\n",
       "      <td>0.012879</td>\n",
       "      <td>0.109400</td>\n",
       "      <td>0.003385</td>\n",
       "      <td>-0.012248</td>\n",
       "      <td>0.564475</td>\n",
       "      <td>-0.012654</td>\n",
       "      <td>-0.011927</td>\n",
       "    </tr>\n",
       "    <tr>\n",
       "      <th>volume</th>\n",
       "      <td>0.704164</td>\n",
       "      <td>0.220890</td>\n",
       "      <td>0.222368</td>\n",
       "      <td>0.219083</td>\n",
       "      <td>0.220718</td>\n",
       "      <td>1.000000</td>\n",
       "      <td>0.748368</td>\n",
       "      <td>-0.018281</td>\n",
       "      <td>-0.007536</td>\n",
       "      <td>0.012004</td>\n",
       "      <td>-0.002384</td>\n",
       "      <td>0.704051</td>\n",
       "      <td>-0.000948</td>\n",
       "      <td>-0.002202</td>\n",
       "    </tr>\n",
       "    <tr>\n",
       "      <th>adjusted_close</th>\n",
       "      <td>0.676749</td>\n",
       "      <td>0.252259</td>\n",
       "      <td>0.252422</td>\n",
       "      <td>0.253012</td>\n",
       "      <td>0.252873</td>\n",
       "      <td>0.748368</td>\n",
       "      <td>1.000000</td>\n",
       "      <td>0.001316</td>\n",
       "      <td>-0.343451</td>\n",
       "      <td>0.002525</td>\n",
       "      <td>0.002997</td>\n",
       "      <td>0.676509</td>\n",
       "      <td>0.002119</td>\n",
       "      <td>0.002869</td>\n",
       "    </tr>\n",
       "    <tr>\n",
       "      <th>change_percent</th>\n",
       "      <td>0.003907</td>\n",
       "      <td>0.003715</td>\n",
       "      <td>0.007143</td>\n",
       "      <td>0.007743</td>\n",
       "      <td>0.012879</td>\n",
       "      <td>-0.018281</td>\n",
       "      <td>0.001316</td>\n",
       "      <td>1.000000</td>\n",
       "      <td>0.003203</td>\n",
       "      <td>-0.026812</td>\n",
       "      <td>-0.008284</td>\n",
       "      <td>0.004155</td>\n",
       "      <td>-0.007758</td>\n",
       "      <td>-0.009768</td>\n",
       "    </tr>\n",
       "    <tr>\n",
       "      <th>avg_vol_20d</th>\n",
       "      <td>0.028803</td>\n",
       "      <td>0.110114</td>\n",
       "      <td>0.111613</td>\n",
       "      <td>0.107308</td>\n",
       "      <td>0.109400</td>\n",
       "      <td>-0.007536</td>\n",
       "      <td>-0.343451</td>\n",
       "      <td>0.003203</td>\n",
       "      <td>1.000000</td>\n",
       "      <td>0.001283</td>\n",
       "      <td>-0.048346</td>\n",
       "      <td>0.030022</td>\n",
       "      <td>-0.046019</td>\n",
       "      <td>-0.047586</td>\n",
       "    </tr>\n",
       "    <tr>\n",
       "      <th>day_of week</th>\n",
       "      <td>0.004075</td>\n",
       "      <td>0.004424</td>\n",
       "      <td>0.003533</td>\n",
       "      <td>0.004137</td>\n",
       "      <td>0.003385</td>\n",
       "      <td>0.012004</td>\n",
       "      <td>0.002525</td>\n",
       "      <td>-0.026812</td>\n",
       "      <td>0.001283</td>\n",
       "      <td>1.000000</td>\n",
       "      <td>-0.012933</td>\n",
       "      <td>0.004401</td>\n",
       "      <td>-0.014745</td>\n",
       "      <td>-0.012796</td>\n",
       "    </tr>\n",
       "    <tr>\n",
       "      <th>month</th>\n",
       "      <td>0.003340</td>\n",
       "      <td>-0.012036</td>\n",
       "      <td>-0.012402</td>\n",
       "      <td>-0.011961</td>\n",
       "      <td>-0.012248</td>\n",
       "      <td>-0.002384</td>\n",
       "      <td>0.002997</td>\n",
       "      <td>-0.008284</td>\n",
       "      <td>-0.048346</td>\n",
       "      <td>-0.012933</td>\n",
       "      <td>1.000000</td>\n",
       "      <td>-0.022104</td>\n",
       "      <td>0.977839</td>\n",
       "      <td>0.996498</td>\n",
       "    </tr>\n",
       "    <tr>\n",
       "      <th>year</th>\n",
       "      <td>0.999674</td>\n",
       "      <td>0.564063</td>\n",
       "      <td>0.564115</td>\n",
       "      <td>0.564681</td>\n",
       "      <td>0.564475</td>\n",
       "      <td>0.704051</td>\n",
       "      <td>0.676509</td>\n",
       "      <td>0.004155</td>\n",
       "      <td>0.030022</td>\n",
       "      <td>0.004401</td>\n",
       "      <td>-0.022104</td>\n",
       "      <td>1.000000</td>\n",
       "      <td>-0.021884</td>\n",
       "      <td>-0.022192</td>\n",
       "    </tr>\n",
       "    <tr>\n",
       "      <th>week_of_year</th>\n",
       "      <td>0.003132</td>\n",
       "      <td>-0.012406</td>\n",
       "      <td>-0.012777</td>\n",
       "      <td>-0.012347</td>\n",
       "      <td>-0.012654</td>\n",
       "      <td>-0.000948</td>\n",
       "      <td>0.002119</td>\n",
       "      <td>-0.007758</td>\n",
       "      <td>-0.046019</td>\n",
       "      <td>-0.014745</td>\n",
       "      <td>0.977839</td>\n",
       "      <td>-0.021884</td>\n",
       "      <td>1.000000</td>\n",
       "      <td>0.979761</td>\n",
       "    </tr>\n",
       "    <tr>\n",
       "      <th>day_of_year</th>\n",
       "      <td>0.003341</td>\n",
       "      <td>-0.011722</td>\n",
       "      <td>-0.012076</td>\n",
       "      <td>-0.011628</td>\n",
       "      <td>-0.011927</td>\n",
       "      <td>-0.002202</td>\n",
       "      <td>0.002869</td>\n",
       "      <td>-0.009768</td>\n",
       "      <td>-0.047586</td>\n",
       "      <td>-0.012796</td>\n",
       "      <td>0.996498</td>\n",
       "      <td>-0.022192</td>\n",
       "      <td>0.979761</td>\n",
       "      <td>1.000000</td>\n",
       "    </tr>\n",
       "  </tbody>\n",
       "</table>\n",
       "</div>"
      ],
      "text/plain": [
       "                    date      open      high       low     close    volume  \\\n",
       "date            1.000000  0.563895  0.563937  0.564516  0.564302  0.704164   \n",
       "open            0.563895  1.000000  0.999914  0.999887  0.999802  0.220890   \n",
       "high            0.563937  0.999914  1.000000  0.999860  0.999905  0.222368   \n",
       "low             0.564516  0.999887  0.999860  1.000000  0.999899  0.219083   \n",
       "close           0.564302  0.999802  0.999905  0.999899  1.000000  0.220718   \n",
       "volume          0.704164  0.220890  0.222368  0.219083  0.220718  1.000000   \n",
       "adjusted_close  0.676749  0.252259  0.252422  0.253012  0.252873  0.748368   \n",
       "change_percent  0.003907  0.003715  0.007143  0.007743  0.012879 -0.018281   \n",
       "avg_vol_20d     0.028803  0.110114  0.111613  0.107308  0.109400 -0.007536   \n",
       "day_of week     0.004075  0.004424  0.003533  0.004137  0.003385  0.012004   \n",
       "month           0.003340 -0.012036 -0.012402 -0.011961 -0.012248 -0.002384   \n",
       "year            0.999674  0.564063  0.564115  0.564681  0.564475  0.704051   \n",
       "week_of_year    0.003132 -0.012406 -0.012777 -0.012347 -0.012654 -0.000948   \n",
       "day_of_year     0.003341 -0.011722 -0.012076 -0.011628 -0.011927 -0.002202   \n",
       "\n",
       "                adjusted_close  change_percent  avg_vol_20d  day_of week  \\\n",
       "date                  0.676749        0.003907     0.028803     0.004075   \n",
       "open                  0.252259        0.003715     0.110114     0.004424   \n",
       "high                  0.252422        0.007143     0.111613     0.003533   \n",
       "low                   0.253012        0.007743     0.107308     0.004137   \n",
       "close                 0.252873        0.012879     0.109400     0.003385   \n",
       "volume                0.748368       -0.018281    -0.007536     0.012004   \n",
       "adjusted_close        1.000000        0.001316    -0.343451     0.002525   \n",
       "change_percent        0.001316        1.000000     0.003203    -0.026812   \n",
       "avg_vol_20d          -0.343451        0.003203     1.000000     0.001283   \n",
       "day_of week           0.002525       -0.026812     0.001283     1.000000   \n",
       "month                 0.002997       -0.008284    -0.048346    -0.012933   \n",
       "year                  0.676509        0.004155     0.030022     0.004401   \n",
       "week_of_year          0.002119       -0.007758    -0.046019    -0.014745   \n",
       "day_of_year           0.002869       -0.009768    -0.047586    -0.012796   \n",
       "\n",
       "                   month      year  week_of_year  day_of_year  \n",
       "date            0.003340  0.999674      0.003132     0.003341  \n",
       "open           -0.012036  0.564063     -0.012406    -0.011722  \n",
       "high           -0.012402  0.564115     -0.012777    -0.012076  \n",
       "low            -0.011961  0.564681     -0.012347    -0.011628  \n",
       "close          -0.012248  0.564475     -0.012654    -0.011927  \n",
       "volume         -0.002384  0.704051     -0.000948    -0.002202  \n",
       "adjusted_close  0.002997  0.676509      0.002119     0.002869  \n",
       "change_percent -0.008284  0.004155     -0.007758    -0.009768  \n",
       "avg_vol_20d    -0.048346  0.030022     -0.046019    -0.047586  \n",
       "day_of week    -0.012933  0.004401     -0.014745    -0.012796  \n",
       "month           1.000000 -0.022104      0.977839     0.996498  \n",
       "year           -0.022104  1.000000     -0.021884    -0.022192  \n",
       "week_of_year    0.977839 -0.021884      1.000000     0.979761  \n",
       "day_of_year     0.996498 -0.022192      0.979761     1.000000  "
      ]
     },
     "execution_count": 33,
     "metadata": {},
     "output_type": "execute_result"
    }
   ],
   "source": [
    "df.corr()"
   ]
  },
  {
   "cell_type": "markdown",
   "id": "79d95aaa",
   "metadata": {},
   "source": [
    "# EXPLORATORY DATA ANALYSIS"
   ]
  },
  {
   "cell_type": "code",
   "execution_count": 34,
   "id": "99dce460",
   "metadata": {
    "scrolled": false
   },
   "outputs": [
    {
     "data": {
      "image/png": "[encoded data removed]",
      "text/plain": [
       "<Figure size 1000x600 with 1 Axes>"
      ]
     },
     "metadata": {},
     "output_type": "display_data"
    },
    {
     "data": {
      "image/png": "[encoded data removed]",
      "text/plain": [
       "<Figure size 640x480 with 2 Axes>"
      ]
     },
     "metadata": {},
     "output_type": "display_data"
    }
   ],
   "source": [
    "plt.figure(figsize=(10, 6))\n",
    "\n",
    "# Line plot of close prices over time\n",
    "sns.lineplot(data=df, x='date', y='close')\n",
    "plt.title('Close Prices Over Time')\n",
    "plt.xlabel('date')\n",
    "plt.ylabel('close price')\n",
    "plt.xticks(rotation=45)\n",
    "plt.show()\n",
    "\n",
    "# Heatmap of correlation between features\n",
    "corr = df.corr()\n",
    "#sns.heatmap(corr, cmap='coolwarm', annot=True)\n",
    "sns.heatmap(corr, cmap='viridis', annot=True)\n",
    "plt.title('Correlation Between Features')\n",
    "plt.show()"
   ]
  },
  {
   "cell_type": "markdown",
   "id": "22c4b5a5",
   "metadata": {},
   "source": [
    "# LSTM Model"
   ]
  },
  {
   "cell_type": "code",
   "execution_count": 35,
   "id": "e36465bf",
   "metadata": {},
   "outputs": [],
   "source": [
    "import keras\n",
    "from keras.models import Sequential\n",
    "from keras.layers import Dense, LSTM\n",
    "from keras.layers import Dropout\n",
    "\n",
    "from sklearn.preprocessing import MinMaxScaler"
   ]
  },
  {
   "cell_type": "code",
   "execution_count": 36,
   "id": "9f0620e2",
   "metadata": {},
   "outputs": [
    {
     "data": {
      "text/plain": [
       "9313"
      ]
     },
     "execution_count": 36,
     "metadata": {},
     "output_type": "execute_result"
    }
   ],
   "source": [
    "# Create new dataframe with Close column\n",
    "data = df.filter(['close'])\n",
    "# Convert it with numpy array\n",
    "dataset = data.values\n",
    "# Get the number of rows to train the model on\n",
    "len_train_data = int(np.ceil(len(dataset) * .95))\n",
    "\n",
    "len_train_data"
   ]
  },
  {
   "cell_type": "markdown",
   "id": "898ba5df",
   "metadata": {},
   "source": [
    "# Normalizing Data"
   ]
  },
  {
   "cell_type": "code",
   "execution_count": 37,
   "id": "5b0f78b7",
   "metadata": {},
   "outputs": [
    {
     "data": {
      "text/plain": [
       "array([[0.01714541],\n",
       "       [0.01932312],\n",
       "       [0.0185918 ],\n",
       "       ...,\n",
       "       [0.23074914],\n",
       "       [0.22852906],\n",
       "       [0.22890633]])"
      ]
     },
     "execution_count": 37,
     "metadata": {},
     "output_type": "execute_result"
    }
   ],
   "source": [
    "scaler = MinMaxScaler(feature_range=(0, 1))\n",
    "scaled_data = scaler.fit_transform(dataset)\n",
    "\n",
    "trained_scaled_data = scaler.fit_transform(dataset)\n",
    "\n",
    "trained_scaled_data"
   ]
  },
  {
   "cell_type": "markdown",
   "id": "cd4fe5af",
   "metadata": {},
   "source": [
    "# Creating the training data set"
   ]
  },
  {
   "cell_type": "code",
   "execution_count": 38,
   "id": "c03f7e63",
   "metadata": {},
   "outputs": [],
   "source": [
    "train_data = trained_scaled_data[0:int(len_train_data), :]"
   ]
  },
  {
   "cell_type": "markdown",
   "id": "5161b617",
   "metadata": {},
   "source": [
    "# Now splitting the data into x_train, y_train"
   ]
  },
  {
   "cell_type": "code",
   "execution_count": 39,
   "id": "3f211961",
   "metadata": {},
   "outputs": [
    {
     "name": "stdout",
     "output_type": "stream",
     "text": [
      "[array([0.01714541, 0.01932312, 0.0185918 , 0.01714541, 0.0149677 ,\n",
      "       0.01623532, 0.01532523, 0.01569902, 0.01569902, 0.0149677 ,\n",
      "       0.01296876, 0.01405761, 0.01478893, 0.01569902, 0.01605656,\n",
      "       0.01696664, 0.01877057, 0.0180555 , 0.01714541, 0.01659286,\n",
      "       0.01732418, 0.01914435, 0.02094828, 0.02076951, 0.02003819,\n",
      "       0.01950189, 0.01823427, 0.0185918 , 0.01950189, 0.02041198,\n",
      "       0.02276846, 0.02112705, 0.02094828, 0.02041198, 0.02112705,\n",
      "       0.02132207, 0.02150083, 0.02294722, 0.02348352, 0.0216796 ,\n",
      "       0.02239467, 0.02239467, 0.0222159 , 0.02185837, 0.02294722,\n",
      "       0.0247674 , 0.02439361, 0.02566124, 0.0247674 , 0.02512493,\n",
      "       0.02203713, 0.02276846, 0.02367854, 0.02494617, 0.02421485,\n",
      "       0.02330476, 0.02421485, 0.02512493, 0.02457238, 0.02457238])]\n",
      "[0.023304757648397192]\n",
      "\n",
      "[array([0.01714541, 0.01932312, 0.0185918 , 0.01714541, 0.0149677 ,\n",
      "       0.01623532, 0.01532523, 0.01569902, 0.01569902, 0.0149677 ,\n",
      "       0.01296876, 0.01405761, 0.01478893, 0.01569902, 0.01605656,\n",
      "       0.01696664, 0.01877057, 0.0180555 , 0.01714541, 0.01659286,\n",
      "       0.01732418, 0.01914435, 0.02094828, 0.02076951, 0.02003819,\n",
      "       0.01950189, 0.01823427, 0.0185918 , 0.01950189, 0.02041198,\n",
      "       0.02276846, 0.02112705, 0.02094828, 0.02041198, 0.02112705,\n",
      "       0.02132207, 0.02150083, 0.02294722, 0.02348352, 0.0216796 ,\n",
      "       0.02239467, 0.02239467, 0.0222159 , 0.02185837, 0.02294722,\n",
      "       0.0247674 , 0.02439361, 0.02566124, 0.0247674 , 0.02512493,\n",
      "       0.02203713, 0.02276846, 0.02367854, 0.02494617, 0.02421485,\n",
      "       0.02330476, 0.02421485, 0.02512493, 0.02457238, 0.02457238]), array([0.01932312, 0.0185918 , 0.01714541, 0.0149677 , 0.01623532,\n",
      "       0.01532523, 0.01569902, 0.01569902, 0.0149677 , 0.01296876,\n",
      "       0.01405761, 0.01478893, 0.01569902, 0.01605656, 0.01696664,\n",
      "       0.01877057, 0.0180555 , 0.01714541, 0.01659286, 0.01732418,\n",
      "       0.01914435, 0.02094828, 0.02076951, 0.02003819, 0.01950189,\n",
      "       0.01823427, 0.0185918 , 0.01950189, 0.02041198, 0.02276846,\n",
      "       0.02112705, 0.02094828, 0.02041198, 0.02112705, 0.02132207,\n",
      "       0.02150083, 0.02294722, 0.02348352, 0.0216796 , 0.02239467,\n",
      "       0.02239467, 0.0222159 , 0.02185837, 0.02294722, 0.0247674 ,\n",
      "       0.02439361, 0.02566124, 0.0247674 , 0.02512493, 0.02203713,\n",
      "       0.02276846, 0.02367854, 0.02494617, 0.02421485, 0.02330476,\n",
      "       0.02421485, 0.02512493, 0.02457238, 0.02457238, 0.02330476])]\n",
      "[0.023304757648397192, 0.022768455694145366]\n",
      "\n"
     ]
    }
   ],
   "source": [
    "# Splitting the data into x_train, y_train\n",
    "\n",
    "x_train, y_train = [], []\n",
    "\n",
    "for i in range(60, len(train_data)):\n",
    "    x_train.append(train_data[i-60:i, 0])\n",
    "    y_train.append(train_data[i, 0])\n",
    "    if(i<=61):\n",
    "        print(x_train)\n",
    "        print(y_train)\n",
    "        print()\n",
    "        \n",
    "# Convert train data to numpy array\n",
    "x_train, y_train = np.array(x_train), np.array(y_train)\n",
    "\n",
    "# Reshapping our new data\n",
    "x_train = np.reshape(x_train, (x_train.shape[0], x_train.shape[1], 1))"
   ]
  },
  {
   "cell_type": "code",
   "execution_count": 40,
   "id": "d689b8f2",
   "metadata": {},
   "outputs": [
    {
     "data": {
      "text/plain": [
       "(9253, 60, 1)"
      ]
     },
     "execution_count": 40,
     "metadata": {},
     "output_type": "execute_result"
    }
   ],
   "source": [
    "x_train.shape"
   ]
  },
  {
   "cell_type": "markdown",
   "id": "9c8e9c27",
   "metadata": {},
   "source": [
    "# Modelling"
   ]
  },
  {
   "cell_type": "code",
   "execution_count": 41,
   "id": "febc9ccd",
   "metadata": {},
   "outputs": [],
   "source": [
    "from keras.layers import Activation\n",
    "from keras.models import Sequential\n",
    "from keras.layers import LSTM, Dense, Activation"
   ]
  },
  {
   "cell_type": "code",
   "execution_count": 42,
   "id": "8e7e3ee7",
   "metadata": {},
   "outputs": [
    {
     "name": "stdout",
     "output_type": "stream",
     "text": [
      "Epoch 1/14\n",
      "290/290 [==============================] - 40s 103ms/step - loss: 0.0014\n",
      "Epoch 2/14\n",
      "290/290 [==============================] - 31s 107ms/step - loss: 4.3020e-04\n",
      "Epoch 3/14\n",
      "290/290 [==============================] - 32s 111ms/step - loss: 3.6839e-04\n",
      "Epoch 4/14\n",
      "290/290 [==============================] - 32s 111ms/step - loss: 3.0675e-04\n",
      "Epoch 5/14\n",
      "290/290 [==============================] - 32s 110ms/step - loss: 2.6065e-04\n",
      "Epoch 6/14\n",
      "290/290 [==============================] - 31s 108ms/step - loss: 2.4994e-04\n",
      "Epoch 7/14\n",
      "290/290 [==============================] - 31s 106ms/step - loss: 2.0885e-04\n",
      "Epoch 8/14\n",
      "290/290 [==============================] - 31s 106ms/step - loss: 2.1729e-04\n",
      "Epoch 9/14\n",
      "290/290 [==============================] - 26s 91ms/step - loss: 1.9912e-04\n",
      "Epoch 10/14\n",
      "290/290 [==============================] - 32s 109ms/step - loss: 1.7434e-04\n",
      "Epoch 11/14\n",
      "290/290 [==============================] - 33s 114ms/step - loss: 1.9377e-04\n",
      "Epoch 12/14\n",
      "290/290 [==============================] - 40s 136ms/step - loss: 1.7884e-04\n",
      "Epoch 13/14\n",
      "290/290 [==============================] - 35s 122ms/step - loss: 1.8105e-04\n",
      "Epoch 14/14\n",
      "290/290 [==============================] - 43s 150ms/step - loss: 1.8166e-04\n"
     ]
    },
    {
     "data": {
      "text/plain": [
       "<keras.src.callbacks.History at 0x1a50d933110>"
      ]
     },
     "execution_count": 42,
     "metadata": {},
     "output_type": "execute_result"
    }
   ],
   "source": [
    "model = Sequential()\n",
    "model.add(LSTM(128, return_sequences=True, input_shape= (x_train.shape[1], 1)))\n",
    "model.add(LSTM(64, return_sequences=False))\n",
    "model.add(Dense(25))\n",
    "model.add(Dense(1))\n",
    "model.add(Activation('linear'))\n",
    "\n",
    "# Compile the model\n",
    "model.compile( optimizer='adam', loss='mean_squared_error')\n",
    "\n",
    "# Train the model\n",
    "model.fit(x_train, y_train, batch_size=32, epochs=14)"
   ]
  },
  {
   "cell_type": "markdown",
   "id": "7e601625",
   "metadata": {},
   "source": [
    "# Prediction"
   ]
  },
  {
   "cell_type": "code",
   "execution_count": 43,
   "id": "b3c33fe5",
   "metadata": {},
   "outputs": [],
   "source": [
    "# Creating Test Data\n",
    "test_data = trained_scaled_data[len_train_data - 60: , :]\n",
    "\n",
    "# Create the datasets x_test and y_test\n",
    "x_test = []\n",
    "y_test = dataset[len_train_data:, :]\n",
    "for i in range(60, len(test_data)):\n",
    "    x_test.append(test_data[i-60:i, 0])\n",
    "    \n",
    "# Convert data into numpy array\n",
    "x_test = np.array(x_test)"
   ]
  },
  {
   "cell_type": "code",
   "execution_count": 44,
   "id": "88626b01",
   "metadata": {},
   "outputs": [
    {
     "data": {
      "text/plain": [
       "array([[0.19679496, 0.1974189 , 0.19419761, ..., 0.18569455, 0.18983   ,\n",
       "        0.19139711],\n",
       "       [0.1974189 , 0.19419761, 0.19160026, ..., 0.18983   , 0.19139711,\n",
       "        0.19387838],\n",
       "       [0.19419761, 0.19160026, 0.19255794, ..., 0.19139711, 0.19387838,\n",
       "        0.19708516],\n",
       "       ...,\n",
       "       [0.26268639, 0.26049532, 0.25885566, ..., 0.23360768, 0.23485556,\n",
       "        0.2367274 ],\n",
       "       [0.26049532, 0.25885566, 0.25955215, ..., 0.23485556, 0.2367274 ,\n",
       "        0.23074914],\n",
       "       [0.25885566, 0.25955215, 0.25791249, ..., 0.2367274 , 0.23074914,\n",
       "        0.22852906]])"
      ]
     },
     "execution_count": 44,
     "metadata": {},
     "output_type": "execute_result"
    }
   ],
   "source": [
    "x_test"
   ]
  },
  {
   "cell_type": "code",
   "execution_count": 45,
   "id": "eda6cda2",
   "metadata": {},
   "outputs": [],
   "source": [
    "# Reshape the data\n",
    "x_test = np.reshape(x_test, (x_test.shape[0], x_test.shape[1], 1))"
   ]
  },
  {
   "cell_type": "code",
   "execution_count": 46,
   "id": "c4936e5d",
   "metadata": {},
   "outputs": [
    {
     "name": "stdout",
     "output_type": "stream",
     "text": [
      "16/16 [==============================] - 2s 52ms/step\n"
     ]
    }
   ],
   "source": [
    "# Predict price\n",
    "predict_price = model.predict(x_test)\n",
    "# inverse transform for getting back all normal values from scaled values\n",
    "predict_price = scaler.inverse_transform(predict_price)"
   ]
  },
  {
   "cell_type": "code",
   "execution_count": 47,
   "id": "9952974a",
   "metadata": {},
   "outputs": [
    {
     "data": {
      "text/plain": [
       "4.3147655782417305"
      ]
     },
     "execution_count": 47,
     "metadata": {},
     "output_type": "execute_result"
    }
   ],
   "source": [
    "rmse = np.sqrt(np.mean(((predict_price - y_test) ** 2)))\n",
    "rmse"
   ]
  },
  {
   "cell_type": "code",
   "execution_count": null,
   "id": "ae28a79b",
   "metadata": {},
   "outputs": [],
   "source": [
    "plt.plot(y_test, color = 'red', label = 'Real Stock Price')\n",
    "plt.plot(predict_price, color = 'green', label = 'Predict Stock Price')\n",
    "plt.title(' Stock Price Prediction')\n",
    "plt.xlabel('Time')\n",
    "plt.ylabel(' Stock Price')\n",
    "plt.legend()\n",
    "plt.show()"
   ]
  },
  {
   "cell_type": "markdown",
   "id": "19c8641f",
   "metadata": {},
   "source": [
    "## As we can see from the above graph that there is very less loss between predicted and original data"
   ]
  },
  {
   "cell_type": "markdown",
   "id": "5d7d026c",
   "metadata": {},
   "source": [
    "# Conclusion"
   ]
  },
  {
   "cell_type": "markdown",
   "id": "cb912304",
   "metadata": {},
   "source": [
    "In this project, we analyzed and predicted the stock price on the apple dataset. We startde with step by step process with preprocessing, data cleaning, feature engineering to extract usefull Information from our raw dataset. After that we perform exploratory data analysis to understand the relationships between the features and target variable.\n",
    "\n",
    "Our model is based on LSTM model."
   ]
  },
  {
   "cell_type": "code",
   "execution_count": null,
   "id": "3cd69d7c",
   "metadata": {},
   "outputs": [],
   "source": []
  }
 ],
 "metadata": {
  "kernelspec": {
   "display_name": "Python 3 (ipykernel)",
   "language": "python",
   "name": "python3"
  },
  "language_info": {
   "codemirror_mode": {
    "name": "ipython",
    "version": 3
   },
   "file_extension": ".py",
   "mimetype": "text/x-python",
   "name": "python",
   "nbconvert_exporter": "python",
   "pygments_lexer": "ipython3",
   "version": "3.11.5"
  }
 },
 "nbformat": 4,
 "nbformat_minor": 5
}
